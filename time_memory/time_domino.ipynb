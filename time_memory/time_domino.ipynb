{
 "metadata": {
  "language_info": {
   "codemirror_mode": {
    "name": "ipython",
    "version": 3
   },
   "file_extension": ".py",
   "mimetype": "text/x-python",
   "name": "python",
   "nbconvert_exporter": "python",
   "pygments_lexer": "ipython3",
   "version": "3.9.1"
  },
  "orig_nbformat": 2,
  "kernelspec": {
   "name": "python391jvsc74a57bd07812ea015bdcee6f23a998adcdd2ef97c151c0c241b7b7070987d9313e41299d",
   "display_name": "Python 3.9.1 64-bit"
  },
  "metadata": {
   "interpreter": {
    "hash": "7812ea015bdcee6f23a998adcdd2ef97c151c0c241b7b7070987d9313e41299d"
   }
  }
 },
 "nbformat": 4,
 "nbformat_minor": 2,
 "cells": [
  {
   "cell_type": "code",
   "execution_count": 26,
   "metadata": {},
   "outputs": [],
   "source": [
    "import time\n",
    "\n",
    "start = time.time()\n",
    "    \n",
    "def __init__(self, angle_droit_h, orientation, order=None):\n",
    "    assert orientation in ORIENTATIONS\n",
    "    self.angle_droit_h = np.array(angle_droit_h)\n",
    "    self.orientation = orientation\n",
    "    self.rect = None\n",
    "        \n",
    "    if order is not None:\n",
    "        self.gen_rect(order=order)\n",
    "\n",
    "def gen_rect(self, order):\n",
    "    TAILLE_Grille = AFFICHAGE_Taille / 2 / (order + 1) \n",
    "    self.rect = pygame.Rect(\n",
    "        round(TAILLE_Grille * (order + 1 + self.angle_droit_h[1])),  #  haut\n",
    "        round(TAILLE_Grille * (order + 1 + self.angle_droit_h[0])),  # droite\n",
    "        round(TAILLE_Grille * (2 if self.orientation in (N, S) else 1)),  # poids\n",
    "        round(TAILLE_Grille * (1 if self.orientation in (N, S) else 2)),  # largeur\n",
    "    )\n",
    "def step(self):\n",
    "    self.angle_droit_h += PAVAGE_Etapes[self.orientation]\n",
    "\n",
    "end = time.time()\n",
    "\n"
   ]
  },
  {
   "cell_type": "code",
   "execution_count": 25,
   "metadata": {},
   "outputs": [
    {
     "output_type": "stream",
     "name": "stdout",
     "text": [
      "Temps passé pour exécuter la class Domino est : 0.00087 s.\n"
     ]
    }
   ],
   "source": [
    "print(\"Temps passé pour exécuter la class Domino est : {0:.5f} s.\".format(end - start))"
   ]
  }
 ]
}